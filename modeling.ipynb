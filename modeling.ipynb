{
 "cells": [
  {
   "cell_type": "markdown",
   "id": "7e97b05e",
   "metadata": {},
   "source": [
    "# HH model"
   ]
  },
  {
   "cell_type": "markdown",
   "id": "28375b96",
   "metadata": {},
   "source": [
    "--> biophysical neuron modeling that assume neurons are like electric circuits. characterized by gates: activation, inactivation for both sodium and potassium. (In neurons there are Na+ (sodium) which is scarce, and potassium (K+) which is abundant inside the cell). \n"
   ]
  },
  {
   "cell_type": "code",
   "execution_count": null,
   "id": "303c7f5f",
   "metadata": {},
   "outputs": [],
   "source": [
    "import numpy as np\n",
    "import matplotlib.pyplot as plt\n",
    "%matplotlib inline\n",
    "from scipy.integrate import odeint, ode"
   ]
  },
  {
   "cell_type": "markdown",
   "id": "ec12900d",
   "metadata": {},
   "source": [
    "m is for sodium activation"
   ]
  },
  {
   "cell_type": "code",
   "execution_count": null,
   "id": "72e9ecd6",
   "metadata": {},
   "outputs": [],
   "source": [
    "# Sodium channel acitivation gate\n",
    "# m is for sodium activation\n",
    "def alpha_m(v):\n",
    "    # sodium activation gate opening rate\n",
    "    return 0.1*(v+40)/(1-np.exp(-(v+40)/10))\n",
    "def beta_m(v):\n",
    "    # sodium activation gate closing rate\n",
    "    return 4*np.exp(-(v+65)/18)\n",
    "def m_inf(v):\n",
    "    # equilibrium activation: alpha_m*(1-m) - beta_m*m = 0\n",
    "    return alpha_m(v)/(alpha_m(v) + beta_m(v))"
   ]
  },
  {
   "cell_type": "markdown",
   "id": "9c545dd7",
   "metadata": {},
   "source": [
    "h is for sodium inactivation"
   ]
  },
  {
   "cell_type": "code",
   "execution_count": null,
   "id": "ba578b5e",
   "metadata": {},
   "outputs": [],
   "source": [
    "# Sodium channel inacitivation gate\n",
    "def alpha_h(v):\n",
    "    # sodium inactivation gate opening rate\n",
    "    return 0.07*np.exp(-(v+65)/20)\n",
    "def beta_h(v):\n",
    "    # sodium inactivation gate closing rate\n",
    "    return 1/(1+np.exp(-(v+35)/10))\n",
    "def h_inf(v):\n",
    "    # equilibrium inactivation: alpha_h*(1-h) - beta_h*h = 0\n",
    "    return alpha_h(v)/(alpha_h(v) + beta_h(v))"
   ]
  },
  {
   "cell_type": "markdown",
   "id": "03cd82b7",
   "metadata": {},
   "source": [
    "n is for potassium activation"
   ]
  },
  {
   "cell_type": "code",
   "execution_count": null,
   "id": "86840491",
   "metadata": {},
   "outputs": [],
   "source": [
    "# Potassium channel acitivation gate\n",
    "def alpha_n(v):\n",
    "    # sodium activation gate opening rate\n",
    "    return 0.01*(v+55)/(1-np.exp(-(v+55)/10))\n",
    "def beta_n(v):\n",
    "    # sodium activation gate closing rate\n",
    "    return 0.125*np.exp(-(v+65)/80)\n",
    "def n_inf(v):\n",
    "    # equilibrium activation: alpha_n*(1-n) - beta_n*n = 0\n",
    "    return alpha_n(v)/(alpha_n(v) + beta_n(v))"
   ]
  },
  {
   "cell_type": "markdown",
   "id": "b0783459",
   "metadata": {},
   "source": [
    "HH model"
   ]
  },
  {
   "cell_type": "code",
   "execution_count": null,
   "id": "2cceed36",
   "metadata": {},
   "outputs": [],
   "source": [
    "# HH: Hodgkin-Huxley (1952) model\n",
    "C = 1.    # membrane capacitance (uF/cm^2)\n",
    "# maximum conductances (uS/cm^2)\n",
    "gna = 120.  # sodium\n",
    "gk = 36.    # potassium\n",
    "gl = 0.3   # leak\n",
    "# reversal potentials (mV)\n",
    "Ena = 50.   # sodium\n",
    "Ek = -77.   # potassium\n",
    "El = -54.4 # leak\n",
    "def hh(y, t, stim=0.):    \n",
    "    # state variables: potential and activation/inactivation\n",
    "    v, m, h, n = y\n",
    "    # membrane potential\n",
    "    if callable(stim):\n",
    "        I = stim(t)  # time-dependent\n",
    "    else:\n",
    "        I = stim  # constant\n",
    "    dv = (gna*m**3*h*(Ena-v) + gk*n**4*(Ek-v) + gl*(El-v) + I)/C\n",
    "    # sodium current activation\n",
    "    dm = alpha_m(v)*(1-m) - beta_m(v)*m\n",
    "    # sodium current inactivation\n",
    "    dh = alpha_h(v)*(1-h) - beta_h(v)*h\n",
    "    # potassium current activation\n",
    "    dn = alpha_n(v)*(1-n) - beta_n(v)*n\n",
    "    return [ dv, dm, dh, dn]"
   ]
  },
  {
   "cell_type": "code",
   "execution_count": null,
   "id": "987c35be",
   "metadata": {},
   "outputs": [],
   "source": [
    "# current stimulus I (uA/cm^2)\n",
    "def ramp(t):\n",
    "    return 0.1*np.array(t)  # ramp current"
   ]
  },
  {
   "cell_type": "markdown",
   "id": "f6f1db98",
   "metadata": {},
   "source": [
    "simulate"
   ]
  },
  {
   "cell_type": "code",
   "execution_count": null,
   "id": "50a264b2",
   "metadata": {},
   "outputs": [],
   "source": [
    "# run a simulation with ramping\n",
    "tt = np.arange(0, 300, 0.1)  # time to be simulated\n",
    "y0 = [ -70, 0.1, 0.6, 0.4]  # initial state: V, m, h, n\n",
    "yt = odeint(hh, y0, tt, args=(ramp,))   # simulated output\n",
    "# plot in separate rows\n",
    "plt.subplot(2, 1, 1)\n",
    "plt.plot(tt, ramp(tt));  # stim\n",
    "plt.plot(tt, yt[:,0]);   # Ie, V\n",
    "plt.ylabel(\"I, V\");\n",
    "plt.legend((\"I(t)\", \"V(t)\"), loc='upper left');\n",
    "plt.subplot(2, 1, 2)\n",
    "plt.plot(tt, yt[:,1:]);  # m, h, n\n",
    "plt.xlabel(\"t\")\n",
    "plt.ylabel(\"m, h, n\");\n",
    "plt.legend((\"m(t)\", \"h(t)\", \"n(t)\"), loc='upper left');"
   ]
  }
 ],
 "metadata": {
  "kernelspec": {
   "display_name": "Python 3",
   "language": "python",
   "name": "python3"
  },
  "language_info": {
   "name": "python",
   "version": "3.10.0"
  }
 },
 "nbformat": 4,
 "nbformat_minor": 5
}
